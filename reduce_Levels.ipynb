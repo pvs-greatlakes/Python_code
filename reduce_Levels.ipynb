{
 "cells": [
  {
   "cell_type": "code",
   "execution_count": 27,
   "metadata": {
    "collapsed": true
   },
   "outputs": [],
   "source": [
    "import   pandas    as    pd\n",
    "import   numpy     as    np"
   ]
  },
  {
   "cell_type": "code",
   "execution_count": 28,
   "metadata": {
    "collapsed": true
   },
   "outputs": [],
   "source": [
    "df  =   pd.DataFrame({'Level_Count' : ['L1','L1','L1','L1','L1','L1','L1','L1','L1','L1','L1','L1','L1',\\\n",
    "                                 'L1','L1','L1','L1','L1','L1','L1','L1','L1','L1','L1','L1','L1','L1','L1','L1',\\\n",
    "                                 'L1','L1','L1','L1','L1','L1','L1','L1','L2','L2','L2','L2','L2','L2','L2','L2',\\\n",
    "                                 'L2','L2','L2','L2','L2','L2','L2','L2','L3','L3','L3','L3','L3','L3','L3','L3','L3',\\\n",
    "                                 'L4','L4','L4','L4','L4','L4','L4','L4','L4','L4','L4','L4','L4','L4','L4','L4','L4',\\\n",
    "                                 'L4','L4','L4','L4','L4','L4','L4','L4','L4','L4','L4','L4','L4','L4','L4','L4','L4',\\\n",
    "                                 'L4','L4','L4','L4','L4','L4','L4','L4','L4','L4','L4','L4','L4','L4','L4','L4','L4',\\\n",
    "                                 'L4','L4','L4','L4','L5','L5','L5','L5','L5','L5','L5','L5','L5','L5','L5','L5','L5']})"
   ]
  },
  {
   "cell_type": "code",
   "execution_count": 29,
   "metadata": {},
   "outputs": [],
   "source": [
    "L = pd.Series(df['Level_Count']).value_counts().reset_index().rename(columns={0:\"counts\",\"index\":\"Level\"})"
   ]
  },
  {
   "cell_type": "code",
   "execution_count": 30,
   "metadata": {},
   "outputs": [
    {
     "name": "stdout",
     "output_type": "stream",
     "text": [
      "   Count Level  Perc_Count\n",
      "0     55    L4       42.31\n",
      "1     37    L1       28.46\n",
      "2     16    L2       12.31\n",
      "3     13    L5       10.00\n",
      "4      9    L3        6.92\n"
     ]
    }
   ],
   "source": [
    "Perc_Level_Count = round((L['Level_Count'] * 100) / L['Level_Count'].sum(),2)  \n",
    "Level_df = pd.DataFrame({'Level' : L['Level'], 'Count': L.Level_Count, 'Perc_Count' : Perc_Level_Count})\n",
    "print(Level_df)"
   ]
  },
  {
   "cell_type": "code",
   "execution_count": 31,
   "metadata": {},
   "outputs": [],
   "source": [
    "Level_df['Cum_Perc_Count'] = Level_df['Perc_Count'].cumsum()"
   ]
  },
  {
   "cell_type": "code",
   "execution_count": 32,
   "metadata": {},
   "outputs": [
    {
     "name": "stdout",
     "output_type": "stream",
     "text": [
      "   Count Level  Perc_Count  Cum_Perc_Count\n",
      "0     55    L4       42.31           42.31\n",
      "1     37    L1       28.46           70.77\n",
      "2     16    L2       12.31           83.08\n",
      "3     13    L5       10.00           93.08\n",
      "4      9    L3        6.92          100.00\n"
     ]
    }
   ],
   "source": [
    "print(Level_df)"
   ]
  },
  {
   "cell_type": "code",
   "execution_count": 33,
   "metadata": {},
   "outputs": [
    {
     "name": "stdout",
     "output_type": "stream",
     "text": [
      "['L4', 'L1', 'L2']\n"
     ]
    }
   ],
   "source": [
    "L_retained      = Level_df.query('Cum_Perc_Count < 90')['Level']\n",
    "retained_levels = list(L_retained) \n",
    "print(retained_levels)"
   ]
  },
  {
   "cell_type": "markdown",
   "metadata": {},
   "source": [
    "### Transform levels\n",
    "\n",
    "Change all levels not listed in retained_levels to 'Others'"
   ]
  },
  {
   "cell_type": "code",
   "execution_count": 34,
   "metadata": {},
   "outputs": [
    {
     "name": "stdout",
     "output_type": "stream",
     "text": [
      "['L5', 'L3']\n",
      "   Count Level  Perc_Count  Cum_Perc_Count\n",
      "0     55    L4       42.31           42.31\n",
      "1     37    L1       28.46           70.77\n",
      "2     16    L2       12.31           83.08\n",
      "3     13    L5       10.00           93.08\n",
      "4      9    L3        6.92          100.00\n"
     ]
    }
   ],
   "source": [
    "Other_Levels = list(Level_df.query('Level not in @retained_levels')['Level'])\n",
    "print(Other_Levels)\n",
    "print(Level_df)"
   ]
  },
  {
   "cell_type": "code",
   "execution_count": 43,
   "metadata": {},
   "outputs": [],
   "source": [
    "# Change the other levels such as L5 to LO and L3 to LO\n",
    "\n",
    "df_transformed = df.copy()\n",
    "\n",
    "for i in range(len(df_transformed['Level_Count'])):\n",
    "    if df_transformed['Level_Count'][i] not in retained_levels:\n",
    "       df_transformed['Level_Count'][i] = 'LO'"
   ]
  },
  {
   "cell_type": "code",
   "execution_count": 45,
   "metadata": {},
   "outputs": [
    {
     "name": "stdout",
     "output_type": "stream",
     "text": [
      "L4    55\n",
      "L1    37\n",
      "LO    22\n",
      "L2    16\n",
      "Name: Level_Count, dtype: int64\n"
     ]
    }
   ],
   "source": [
    "print(df_transformed['Level_Count'].value_counts())"
   ]
  },
  {
   "cell_type": "code",
   "execution_count": 42,
   "metadata": {},
   "outputs": [
    {
     "name": "stdout",
     "output_type": "stream",
     "text": [
      "  Level  Level_Count\n",
      "0    L4           55\n",
      "1    L1           37\n",
      "2    LO           22\n",
      "3    L2           16\n"
     ]
    }
   ],
   "source": [
    "print(df_transformed)"
   ]
  },
  {
   "cell_type": "code",
   "execution_count": null,
   "metadata": {
    "collapsed": true
   },
   "outputs": [],
   "source": []
  }
 ],
 "metadata": {
  "kernelspec": {
   "display_name": "Python 3",
   "language": "python",
   "name": "python3"
  },
  "language_info": {
   "codemirror_mode": {
    "name": "ipython",
    "version": 3
   },
   "file_extension": ".py",
   "mimetype": "text/x-python",
   "name": "python",
   "nbconvert_exporter": "python",
   "pygments_lexer": "ipython3",
   "version": "3.6.3"
  }
 },
 "nbformat": 4,
 "nbformat_minor": 2
}
