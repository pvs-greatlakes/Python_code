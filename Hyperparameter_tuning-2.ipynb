{
 "cells": [
  {
   "cell_type": "markdown",
   "metadata": {},
   "source": [
    "https://methodmatters.blogspot.com/2017/05/analyzing-wine-data-in-python-part-2.html"
   ]
  },
  {
   "cell_type": "markdown",
   "metadata": {},
   "source": [
    "### Import necessary libraries "
   ]
  },
  {
   "cell_type": "code",
   "execution_count": 1,
   "metadata": {},
   "outputs": [
    {
     "name": "stderr",
     "output_type": "stream",
     "text": [
      "D:\\Python\\lib\\site-packages\\sklearn\\cross_validation.py:41: DeprecationWarning: This module was deprecated in version 0.18 in favor of the model_selection module into which all the refactored classes and functions are moved. Also note that the interface of the new CV iterators are different from that of this module. This module will be removed in 0.20.\n",
      "  \"This module will be removed in 0.20.\", DeprecationWarning)\n",
      "D:\\Python\\lib\\site-packages\\sklearn\\ensemble\\weight_boosting.py:29: DeprecationWarning: numpy.core.umath_tests is an internal NumPy module and should not be imported. It will be removed in a future NumPy release.\n",
      "  from numpy.core.umath_tests import inner1d\n",
      "D:\\Python\\lib\\site-packages\\sklearn\\grid_search.py:42: DeprecationWarning: This module was deprecated in version 0.18 in favor of the model_selection module into which all the refactored classes and functions are moved. This module will be removed in 0.20.\n",
      "  DeprecationWarning)\n"
     ]
    }
   ],
   "source": [
    "import numpy                    as np\n",
    "import pandas                   as pd\n",
    "import seaborn                  as sns\n",
    "import timeit\n",
    "\n",
    "from   sklearn.cross_validation import  train_test_split\n",
    "from   sklearn.metrics          import  make_scorer\n",
    "from   sklearn.ensemble         import  RandomForestClassifier\n",
    "\n",
    "from   sklearn                  import  metrics \n",
    "from   sklearn.metrics          import  classification_report\n",
    "from   sklearn.metrics          import  confusion_matrix, accuracy_score\n",
    "from   sklearn.metrics          import  roc_curve, auc\n",
    "\n",
    "from   sklearn.model_selection  import  ParameterGrid, cross_val_score\n",
    "from   sklearn.grid_search      import  GridSearchCV, RandomizedSearchCV\n",
    "from   scipy.stats              import  randint, uniform\n",
    "\n",
    "import matplotlib.pyplot        as plt\n",
    "\n",
    "# Pretty display for notebooks\n",
    "%matplotlib inline"
   ]
  },
  {
   "cell_type": "code",
   "execution_count": 2,
   "metadata": {
    "collapsed": true
   },
   "outputs": [],
   "source": [
    "'''\n",
    "    Calculates and returns the performance score between \n",
    "    true and predicted values based on the metric chosen. \n",
    "'''\n",
    "def performance_metric(y_true, y_predict):\n",
    "\n",
    "\n",
    "    score = accuracy_score(y_test, y_pred)\n",
    "\n",
    "    return score"
   ]
  },
  {
   "cell_type": "code",
   "execution_count": 3,
   "metadata": {
    "collapsed": true
   },
   "outputs": [],
   "source": [
    "data_url = 'http://mlr.cs.umass.edu/ml/machine-learning-databases/wine-quality/winequality-red.csv'\n",
    "data_df  = pd.read_csv(data_url, sep=';')"
   ]
  },
  {
   "cell_type": "code",
   "execution_count": 4,
   "metadata": {},
   "outputs": [
    {
     "name": "stdout",
     "output_type": "stream",
     "text": [
      "(1599, 12)\n",
      "Index(['fixed acidity', 'volatile acidity', 'citric acid', 'residual sugar',\n",
      "       'chlorides', 'free sulfur dioxide', 'total sulfur dioxide', 'density',\n",
      "       'pH', 'sulphates', 'alcohol', 'quality'],\n",
      "      dtype='object')\n"
     ]
    }
   ],
   "source": [
    "print(data_df.shape)\n",
    "print(data_df.columns)"
   ]
  },
  {
   "cell_type": "code",
   "execution_count": 5,
   "metadata": {
    "collapsed": true
   },
   "outputs": [],
   "source": [
    "data_df['quality'] = data_df['quality'].astype('category') "
   ]
  },
  {
   "cell_type": "code",
   "execution_count": 6,
   "metadata": {},
   "outputs": [
    {
     "data": {
      "text/plain": [
       "5    681\n",
       "6    638\n",
       "7    199\n",
       "4     53\n",
       "8     18\n",
       "3     10\n",
       "Name: quality, dtype: int64"
      ]
     },
     "execution_count": 6,
     "metadata": {},
     "output_type": "execute_result"
    }
   ],
   "source": [
    "data_df['quality'].value_counts()"
   ]
  },
  {
   "cell_type": "markdown",
   "metadata": {},
   "source": [
    "We observe that there are a lot of wines with a quality of 5 as compared to the others. The dataset description states – there are a lot more normal wines than excellent or poor ones. For the purpose of this discussion, let’s classify the wines into good, bad, and normal based on their quality."
   ]
  },
  {
   "cell_type": "code",
   "execution_count": 7,
   "metadata": {
    "collapsed": true
   },
   "outputs": [],
   "source": [
    "data_df['wine_quality']  = data_df['quality'].\\\n",
    "                               apply(lambda x: 'Bad' if x < 6 \\\n",
    "                                     else 'Good')"
   ]
  },
  {
   "cell_type": "code",
   "execution_count": 8,
   "metadata": {
    "collapsed": true
   },
   "outputs": [],
   "source": [
    "y        = data_df.wine_quality # Create the response variable data\n",
    "X        = data_df.drop(['quality','wine_quality'], axis=1) # create predictor variables data"
   ]
  },
  {
   "cell_type": "code",
   "execution_count": 9,
   "metadata": {},
   "outputs": [
    {
     "data": {
      "text/plain": [
       "Good    855\n",
       "Bad     744\n",
       "Name: wine_quality, dtype: int64"
      ]
     },
     "execution_count": 9,
     "metadata": {},
     "output_type": "execute_result"
    }
   ],
   "source": [
    "y.value_counts()"
   ]
  },
  {
   "cell_type": "code",
   "execution_count": 10,
   "metadata": {
    "collapsed": true
   },
   "outputs": [],
   "source": [
    "X_train, X_test, y_train, y_test = train_test_split(X, y, test_size = 0.34, stratify = y)"
   ]
  },
  {
   "cell_type": "code",
   "execution_count": 11,
   "metadata": {},
   "outputs": [
    {
     "name": "stdout",
     "output_type": "stream",
     "text": [
      "training data X: shape  (1055, 11)\n",
      "training data y: shape  (1055,)\n",
      "test data X: shape  (544, 11)\n",
      "test data y: shape  (544,)\n"
     ]
    }
   ],
   "source": [
    "print('training data X: shape ', X_train.shape)\n",
    "print('training data y: shape ', y_train.shape)\n",
    "print('test data X: shape ',     X_test.shape)\n",
    "print('test data y: shape ',     y_test.shape)"
   ]
  },
  {
   "cell_type": "code",
   "execution_count": 12,
   "metadata": {},
   "outputs": [
    {
     "name": "stdout",
     "output_type": "stream",
     "text": [
      "\n",
      "Y train\n",
      " Good    564\n",
      "Bad     491\n",
      "Name: wine_quality, dtype: int64\n",
      "\n",
      "Y test\n",
      " Good    291\n",
      "Bad     253\n",
      "Name: wine_quality, dtype: int64\n"
     ]
    }
   ],
   "source": [
    "print('\\nY train\\n', y_train.value_counts())\n",
    "print('\\nY test\\n', y_test.value_counts())"
   ]
  },
  {
   "cell_type": "code",
   "execution_count": 13,
   "metadata": {
    "collapsed": true
   },
   "outputs": [],
   "source": [
    "def draw_cm(cm):\n",
    "    print(cm)\n",
    "    import matplotlib.pyplot as   plt\n",
    "    import sklearn.metrics   as   metrics\n",
    "    import seaborn           as   sns\n",
    "    \n",
    "    sns.heatmap(cm, annot=True, fmt='.2f', \\\n",
    "                xticklabels = [\"Bad\", \"Good\"] , yticklabels = [\"Bad\", \"Good\"] )\n",
    "    plt.ylabel('True label')\n",
    "    plt.xlabel('Predicted label')\n",
    "    plt.show()   "
   ]
  },
  {
   "cell_type": "code",
   "execution_count": 14,
   "metadata": {},
   "outputs": [],
   "source": [
    "def fit_model(X, y):\n",
    "\n",
    "    classifier           =   RandomForestClassifier(n_jobs = -1, random_state = 12345)\n",
    "    max_depth_range     =   list(range(3, 11))\n",
    "    min_sample_split_S  =   list(range(2, 6))\n",
    "    n_estimators        =   [150, 200, 250]\n",
    "    \n",
    "    params              =   dict(max_depth   = max_depth_range, min_samples_split = min_sample_split_S,\\\n",
    "                                 n_estimators = n_estimators)\n",
    "    \n",
    "    print('\\n>> Parameter space length << \\n')\n",
    "    print(len(list(ParameterGrid(params))))\n",
    "    print('\\n')\n",
    "    \n",
    "    scoring_fn  =   make_scorer(performance_metric)\n",
    "\n",
    "    grid        =   GridSearchCV(regressor, params, cv = 10)\n",
    "    \n",
    "    grid        =   grid.fit(X, y)\n",
    "\n",
    "    return grid.best_estimator_  "
   ]
  },
  {
   "cell_type": "code",
   "execution_count": 15,
   "metadata": {
    "scrolled": true
   },
   "outputs": [
    {
     "name": "stdout",
     "output_type": "stream",
     "text": [
      "\n",
      ">> Parameter space length << \n",
      "\n",
      "96\n",
      "\n",
      "\n",
      "Wall time: 5min 52s\n",
      "RandomForestClassifier(bootstrap=True, class_weight=None, criterion='gini',\n",
      "            max_depth=10, max_features='auto', max_leaf_nodes=None,\n",
      "            min_impurity_decrease=0.0, min_impurity_split=None,\n",
      "            min_samples_leaf=1, min_samples_split=5,\n",
      "            min_weight_fraction_leaf=0.0, n_estimators=200, n_jobs=-1,\n",
      "            oob_score=False, random_state=12345, verbose=0,\n",
      "            warm_start=False)\n"
     ]
    }
   ],
   "source": [
    "reg                       =   %time fit_model(X_train, y_train)\n",
    "\n",
    "print(reg)"
   ]
  },
  {
   "cell_type": "code",
   "execution_count": 16,
   "metadata": {},
   "outputs": [],
   "source": [
    "y_pred         = reg.predict(X_test)"
   ]
  },
  {
   "cell_type": "code",
   "execution_count": 17,
   "metadata": {},
   "outputs": [
    {
     "name": "stdout",
     "output_type": "stream",
     "text": [
      "[[200  53]\n",
      " [ 61 230]]\n"
     ]
    },
    {
     "data": {
      "image/png": "[encoded data removed]",
      "text/plain": [
       "<matplotlib.figure.Figure at 0x21dca2d01d0>"
      ]
     },
     "metadata": {},
     "output_type": "display_data"
    },
    {
     "name": "stdout",
     "output_type": "stream",
     "text": [
      "0.7904411764705882\n",
      "             precision    recall  f1-score   support\n",
      "\n",
      "        Bad       0.77      0.79      0.78       253\n",
      "       Good       0.81      0.79      0.80       291\n",
      "\n",
      "avg / total       0.79      0.79      0.79       544\n",
      "\n"
     ]
    }
   ],
   "source": [
    "cm = confusion_matrix(y_test, y_pred)\n",
    "draw_cm(cm)\n",
    "print(accuracy_score(y_test, y_pred))\n",
    "print(classification_report(y_test, y_pred))"
   ]
  }
 ],
 "metadata": {
  "kernelspec": {
   "display_name": "Python 3",
   "language": "python",
   "name": "python3"
  },
  "language_info": {
   "codemirror_mode": {
    "name": "ipython",
    "version": 3
   },
   "file_extension": ".py",
   "mimetype": "text/x-python",
   "name": "python",
   "nbconvert_exporter": "python",
   "pygments_lexer": "ipython3",
   "version": "3.6.3"
  }
 },
 "nbformat": 4,
 "nbformat_minor": 2
}
